{
 "cells": [
  {
   "cell_type": "markdown",
   "metadata": {},
   "source": [
    "IMPORTING DATA "
   ]
  },
  {
   "cell_type": "code",
   "execution_count": 26,
   "metadata": {},
   "outputs": [],
   "source": [
    "import pandas as pd \n",
    "import matplotlib.pyplot as plt\n",
    "import numpy as np\n",
    "import seaborn as sns\n",
    "from sklearn.model_selection import train_test_split\n",
    "from sklearn.preprocessing import StandardScaler\n",
    "from sklearn.metrics import mean_absolute_error\n",
    "from sklearn.linear_model import Ridge\n",
    "from sklearn.neural_network import MLPRegressor\n",
    "from sklearn.ensemble import RandomForestRegressor\n",
    "from sklearn.linear_model import LinearRegression\n",
    "\n",
    "\n",
    "df = pd.read_csv('data.csv')\n"
   ]
  },
  {
   "cell_type": "markdown",
   "metadata": {},
   "source": [
    "VIEWING DATA "
   ]
  },
  {
   "cell_type": "code",
   "execution_count": 27,
   "metadata": {},
   "outputs": [
    {
     "data": {
      "text/html": [
       "<div>\n",
       "<style scoped>\n",
       "    .dataframe tbody tr th:only-of-type {\n",
       "        vertical-align: middle;\n",
       "    }\n",
       "\n",
       "    .dataframe tbody tr th {\n",
       "        vertical-align: top;\n",
       "    }\n",
       "\n",
       "    .dataframe thead th {\n",
       "        text-align: right;\n",
       "    }\n",
       "</style>\n",
       "<table border=\"1\" class=\"dataframe\">\n",
       "  <thead>\n",
       "    <tr style=\"text-align: right;\">\n",
       "      <th></th>\n",
       "      <th>number_people</th>\n",
       "      <th>date</th>\n",
       "      <th>timestamp</th>\n",
       "      <th>day_of_week</th>\n",
       "      <th>is_weekend</th>\n",
       "      <th>is_holiday</th>\n",
       "      <th>temperature</th>\n",
       "      <th>is_start_of_semester</th>\n",
       "      <th>is_during_semester</th>\n",
       "      <th>month</th>\n",
       "      <th>hour</th>\n",
       "    </tr>\n",
       "  </thead>\n",
       "  <tbody>\n",
       "    <tr>\n",
       "      <th>0</th>\n",
       "      <td>37</td>\n",
       "      <td>2015-08-14 17:00:11-07:00</td>\n",
       "      <td>61211</td>\n",
       "      <td>4</td>\n",
       "      <td>0</td>\n",
       "      <td>0</td>\n",
       "      <td>71.76</td>\n",
       "      <td>0</td>\n",
       "      <td>0</td>\n",
       "      <td>8</td>\n",
       "      <td>17</td>\n",
       "    </tr>\n",
       "    <tr>\n",
       "      <th>1</th>\n",
       "      <td>45</td>\n",
       "      <td>2015-08-14 17:20:14-07:00</td>\n",
       "      <td>62414</td>\n",
       "      <td>4</td>\n",
       "      <td>0</td>\n",
       "      <td>0</td>\n",
       "      <td>71.76</td>\n",
       "      <td>0</td>\n",
       "      <td>0</td>\n",
       "      <td>8</td>\n",
       "      <td>17</td>\n",
       "    </tr>\n",
       "    <tr>\n",
       "      <th>2</th>\n",
       "      <td>40</td>\n",
       "      <td>2015-08-14 17:30:15-07:00</td>\n",
       "      <td>63015</td>\n",
       "      <td>4</td>\n",
       "      <td>0</td>\n",
       "      <td>0</td>\n",
       "      <td>71.76</td>\n",
       "      <td>0</td>\n",
       "      <td>0</td>\n",
       "      <td>8</td>\n",
       "      <td>17</td>\n",
       "    </tr>\n",
       "    <tr>\n",
       "      <th>3</th>\n",
       "      <td>44</td>\n",
       "      <td>2015-08-14 17:40:16-07:00</td>\n",
       "      <td>63616</td>\n",
       "      <td>4</td>\n",
       "      <td>0</td>\n",
       "      <td>0</td>\n",
       "      <td>71.76</td>\n",
       "      <td>0</td>\n",
       "      <td>0</td>\n",
       "      <td>8</td>\n",
       "      <td>17</td>\n",
       "    </tr>\n",
       "    <tr>\n",
       "      <th>4</th>\n",
       "      <td>45</td>\n",
       "      <td>2015-08-14 17:50:17-07:00</td>\n",
       "      <td>64217</td>\n",
       "      <td>4</td>\n",
       "      <td>0</td>\n",
       "      <td>0</td>\n",
       "      <td>71.76</td>\n",
       "      <td>0</td>\n",
       "      <td>0</td>\n",
       "      <td>8</td>\n",
       "      <td>17</td>\n",
       "    </tr>\n",
       "    <tr>\n",
       "      <th>5</th>\n",
       "      <td>46</td>\n",
       "      <td>2015-08-14 18:00:18-07:00</td>\n",
       "      <td>64818</td>\n",
       "      <td>4</td>\n",
       "      <td>0</td>\n",
       "      <td>0</td>\n",
       "      <td>72.15</td>\n",
       "      <td>0</td>\n",
       "      <td>0</td>\n",
       "      <td>8</td>\n",
       "      <td>18</td>\n",
       "    </tr>\n",
       "    <tr>\n",
       "      <th>6</th>\n",
       "      <td>43</td>\n",
       "      <td>2015-08-14 18:20:08-07:00</td>\n",
       "      <td>66008</td>\n",
       "      <td>4</td>\n",
       "      <td>0</td>\n",
       "      <td>0</td>\n",
       "      <td>72.15</td>\n",
       "      <td>0</td>\n",
       "      <td>0</td>\n",
       "      <td>8</td>\n",
       "      <td>18</td>\n",
       "    </tr>\n",
       "    <tr>\n",
       "      <th>7</th>\n",
       "      <td>53</td>\n",
       "      <td>2015-08-14 18:30:09-07:00</td>\n",
       "      <td>66609</td>\n",
       "      <td>4</td>\n",
       "      <td>0</td>\n",
       "      <td>0</td>\n",
       "      <td>72.15</td>\n",
       "      <td>0</td>\n",
       "      <td>0</td>\n",
       "      <td>8</td>\n",
       "      <td>18</td>\n",
       "    </tr>\n",
       "    <tr>\n",
       "      <th>8</th>\n",
       "      <td>54</td>\n",
       "      <td>2015-08-14 18:40:14-07:00</td>\n",
       "      <td>67214</td>\n",
       "      <td>4</td>\n",
       "      <td>0</td>\n",
       "      <td>0</td>\n",
       "      <td>72.15</td>\n",
       "      <td>0</td>\n",
       "      <td>0</td>\n",
       "      <td>8</td>\n",
       "      <td>18</td>\n",
       "    </tr>\n",
       "    <tr>\n",
       "      <th>9</th>\n",
       "      <td>43</td>\n",
       "      <td>2015-08-14 18:50:15-07:00</td>\n",
       "      <td>67815</td>\n",
       "      <td>4</td>\n",
       "      <td>0</td>\n",
       "      <td>0</td>\n",
       "      <td>72.15</td>\n",
       "      <td>0</td>\n",
       "      <td>0</td>\n",
       "      <td>8</td>\n",
       "      <td>18</td>\n",
       "    </tr>\n",
       "  </tbody>\n",
       "</table>\n",
       "</div>"
      ],
      "text/plain": [
       "   number_people                       date  timestamp  day_of_week  \\\n",
       "0             37  2015-08-14 17:00:11-07:00      61211            4   \n",
       "1             45  2015-08-14 17:20:14-07:00      62414            4   \n",
       "2             40  2015-08-14 17:30:15-07:00      63015            4   \n",
       "3             44  2015-08-14 17:40:16-07:00      63616            4   \n",
       "4             45  2015-08-14 17:50:17-07:00      64217            4   \n",
       "5             46  2015-08-14 18:00:18-07:00      64818            4   \n",
       "6             43  2015-08-14 18:20:08-07:00      66008            4   \n",
       "7             53  2015-08-14 18:30:09-07:00      66609            4   \n",
       "8             54  2015-08-14 18:40:14-07:00      67214            4   \n",
       "9             43  2015-08-14 18:50:15-07:00      67815            4   \n",
       "\n",
       "   is_weekend  is_holiday  temperature  is_start_of_semester  \\\n",
       "0           0           0        71.76                     0   \n",
       "1           0           0        71.76                     0   \n",
       "2           0           0        71.76                     0   \n",
       "3           0           0        71.76                     0   \n",
       "4           0           0        71.76                     0   \n",
       "5           0           0        72.15                     0   \n",
       "6           0           0        72.15                     0   \n",
       "7           0           0        72.15                     0   \n",
       "8           0           0        72.15                     0   \n",
       "9           0           0        72.15                     0   \n",
       "\n",
       "   is_during_semester  month  hour  \n",
       "0                   0      8    17  \n",
       "1                   0      8    17  \n",
       "2                   0      8    17  \n",
       "3                   0      8    17  \n",
       "4                   0      8    17  \n",
       "5                   0      8    18  \n",
       "6                   0      8    18  \n",
       "7                   0      8    18  \n",
       "8                   0      8    18  \n",
       "9                   0      8    18  "
      ]
     },
     "execution_count": 27,
     "metadata": {},
     "output_type": "execute_result"
    }
   ],
   "source": [
    "df.head(10) "
   ]
  },
  {
   "cell_type": "code",
   "execution_count": 28,
   "metadata": {},
   "outputs": [
    {
     "data": {
      "text/html": [
       "<div>\n",
       "<style scoped>\n",
       "    .dataframe tbody tr th:only-of-type {\n",
       "        vertical-align: middle;\n",
       "    }\n",
       "\n",
       "    .dataframe tbody tr th {\n",
       "        vertical-align: top;\n",
       "    }\n",
       "\n",
       "    .dataframe thead th {\n",
       "        text-align: right;\n",
       "    }\n",
       "</style>\n",
       "<table border=\"1\" class=\"dataframe\">\n",
       "  <thead>\n",
       "    <tr style=\"text-align: right;\">\n",
       "      <th></th>\n",
       "      <th>number_people</th>\n",
       "      <th>date</th>\n",
       "      <th>timestamp</th>\n",
       "      <th>day_of_week</th>\n",
       "      <th>is_weekend</th>\n",
       "      <th>is_holiday</th>\n",
       "      <th>temperature</th>\n",
       "      <th>is_start_of_semester</th>\n",
       "      <th>is_during_semester</th>\n",
       "      <th>month</th>\n",
       "      <th>hour</th>\n",
       "    </tr>\n",
       "  </thead>\n",
       "  <tbody>\n",
       "    <tr>\n",
       "      <th>62174</th>\n",
       "      <td>19</td>\n",
       "      <td>2017-03-18 17:52:12-07:00</td>\n",
       "      <td>64332</td>\n",
       "      <td>5</td>\n",
       "      <td>1</td>\n",
       "      <td>0</td>\n",
       "      <td>61.52</td>\n",
       "      <td>0</td>\n",
       "      <td>1</td>\n",
       "      <td>3</td>\n",
       "      <td>17</td>\n",
       "    </tr>\n",
       "    <tr>\n",
       "      <th>62175</th>\n",
       "      <td>15</td>\n",
       "      <td>2017-03-18 18:02:15-07:00</td>\n",
       "      <td>64935</td>\n",
       "      <td>5</td>\n",
       "      <td>1</td>\n",
       "      <td>0</td>\n",
       "      <td>61.07</td>\n",
       "      <td>0</td>\n",
       "      <td>1</td>\n",
       "      <td>3</td>\n",
       "      <td>18</td>\n",
       "    </tr>\n",
       "    <tr>\n",
       "      <th>62176</th>\n",
       "      <td>17</td>\n",
       "      <td>2017-03-18 18:12:19-07:00</td>\n",
       "      <td>65539</td>\n",
       "      <td>5</td>\n",
       "      <td>1</td>\n",
       "      <td>0</td>\n",
       "      <td>61.07</td>\n",
       "      <td>0</td>\n",
       "      <td>1</td>\n",
       "      <td>3</td>\n",
       "      <td>18</td>\n",
       "    </tr>\n",
       "    <tr>\n",
       "      <th>62177</th>\n",
       "      <td>18</td>\n",
       "      <td>2017-03-18 18:22:21-07:00</td>\n",
       "      <td>66141</td>\n",
       "      <td>5</td>\n",
       "      <td>1</td>\n",
       "      <td>0</td>\n",
       "      <td>61.07</td>\n",
       "      <td>0</td>\n",
       "      <td>1</td>\n",
       "      <td>3</td>\n",
       "      <td>18</td>\n",
       "    </tr>\n",
       "    <tr>\n",
       "      <th>62178</th>\n",
       "      <td>21</td>\n",
       "      <td>2017-03-18 18:32:25-07:00</td>\n",
       "      <td>66745</td>\n",
       "      <td>5</td>\n",
       "      <td>1</td>\n",
       "      <td>0</td>\n",
       "      <td>61.07</td>\n",
       "      <td>0</td>\n",
       "      <td>1</td>\n",
       "      <td>3</td>\n",
       "      <td>18</td>\n",
       "    </tr>\n",
       "    <tr>\n",
       "      <th>62179</th>\n",
       "      <td>23</td>\n",
       "      <td>2017-03-18 18:42:28-07:00</td>\n",
       "      <td>67348</td>\n",
       "      <td>5</td>\n",
       "      <td>1</td>\n",
       "      <td>0</td>\n",
       "      <td>61.07</td>\n",
       "      <td>0</td>\n",
       "      <td>1</td>\n",
       "      <td>3</td>\n",
       "      <td>18</td>\n",
       "    </tr>\n",
       "    <tr>\n",
       "      <th>62180</th>\n",
       "      <td>21</td>\n",
       "      <td>2017-03-18 18:52:35-07:00</td>\n",
       "      <td>67955</td>\n",
       "      <td>5</td>\n",
       "      <td>1</td>\n",
       "      <td>0</td>\n",
       "      <td>61.07</td>\n",
       "      <td>0</td>\n",
       "      <td>1</td>\n",
       "      <td>3</td>\n",
       "      <td>18</td>\n",
       "    </tr>\n",
       "    <tr>\n",
       "      <th>62181</th>\n",
       "      <td>25</td>\n",
       "      <td>2017-03-18 19:02:40-07:00</td>\n",
       "      <td>68560</td>\n",
       "      <td>5</td>\n",
       "      <td>1</td>\n",
       "      <td>0</td>\n",
       "      <td>56.71</td>\n",
       "      <td>0</td>\n",
       "      <td>1</td>\n",
       "      <td>3</td>\n",
       "      <td>19</td>\n",
       "    </tr>\n",
       "    <tr>\n",
       "      <th>62182</th>\n",
       "      <td>18</td>\n",
       "      <td>2017-03-18 19:12:47-07:00</td>\n",
       "      <td>69167</td>\n",
       "      <td>5</td>\n",
       "      <td>1</td>\n",
       "      <td>0</td>\n",
       "      <td>56.71</td>\n",
       "      <td>0</td>\n",
       "      <td>1</td>\n",
       "      <td>3</td>\n",
       "      <td>19</td>\n",
       "    </tr>\n",
       "    <tr>\n",
       "      <th>62183</th>\n",
       "      <td>23</td>\n",
       "      <td>2017-03-18 19:22:51-07:00</td>\n",
       "      <td>69771</td>\n",
       "      <td>5</td>\n",
       "      <td>1</td>\n",
       "      <td>0</td>\n",
       "      <td>56.71</td>\n",
       "      <td>0</td>\n",
       "      <td>1</td>\n",
       "      <td>3</td>\n",
       "      <td>19</td>\n",
       "    </tr>\n",
       "  </tbody>\n",
       "</table>\n",
       "</div>"
      ],
      "text/plain": [
       "       number_people                       date  timestamp  day_of_week  \\\n",
       "62174             19  2017-03-18 17:52:12-07:00      64332            5   \n",
       "62175             15  2017-03-18 18:02:15-07:00      64935            5   \n",
       "62176             17  2017-03-18 18:12:19-07:00      65539            5   \n",
       "62177             18  2017-03-18 18:22:21-07:00      66141            5   \n",
       "62178             21  2017-03-18 18:32:25-07:00      66745            5   \n",
       "62179             23  2017-03-18 18:42:28-07:00      67348            5   \n",
       "62180             21  2017-03-18 18:52:35-07:00      67955            5   \n",
       "62181             25  2017-03-18 19:02:40-07:00      68560            5   \n",
       "62182             18  2017-03-18 19:12:47-07:00      69167            5   \n",
       "62183             23  2017-03-18 19:22:51-07:00      69771            5   \n",
       "\n",
       "       is_weekend  is_holiday  temperature  is_start_of_semester  \\\n",
       "62174           1           0        61.52                     0   \n",
       "62175           1           0        61.07                     0   \n",
       "62176           1           0        61.07                     0   \n",
       "62177           1           0        61.07                     0   \n",
       "62178           1           0        61.07                     0   \n",
       "62179           1           0        61.07                     0   \n",
       "62180           1           0        61.07                     0   \n",
       "62181           1           0        56.71                     0   \n",
       "62182           1           0        56.71                     0   \n",
       "62183           1           0        56.71                     0   \n",
       "\n",
       "       is_during_semester  month  hour  \n",
       "62174                   1      3    17  \n",
       "62175                   1      3    18  \n",
       "62176                   1      3    18  \n",
       "62177                   1      3    18  \n",
       "62178                   1      3    18  \n",
       "62179                   1      3    18  \n",
       "62180                   1      3    18  \n",
       "62181                   1      3    19  \n",
       "62182                   1      3    19  \n",
       "62183                   1      3    19  "
      ]
     },
     "execution_count": 28,
     "metadata": {},
     "output_type": "execute_result"
    }
   ],
   "source": [
    "df.tail(10)"
   ]
  },
  {
   "cell_type": "code",
   "execution_count": 29,
   "metadata": {},
   "outputs": [
    {
     "name": "stdout",
     "output_type": "stream",
     "text": [
      "<class 'pandas.core.frame.DataFrame'>\n",
      "RangeIndex: 62184 entries, 0 to 62183\n",
      "Data columns (total 11 columns):\n",
      " #   Column                Non-Null Count  Dtype  \n",
      "---  ------                --------------  -----  \n",
      " 0   number_people         62184 non-null  int64  \n",
      " 1   date                  62184 non-null  object \n",
      " 2   timestamp             62184 non-null  int64  \n",
      " 3   day_of_week           62184 non-null  int64  \n",
      " 4   is_weekend            62184 non-null  int64  \n",
      " 5   is_holiday            62184 non-null  int64  \n",
      " 6   temperature           62184 non-null  float64\n",
      " 7   is_start_of_semester  62184 non-null  int64  \n",
      " 8   is_during_semester    62184 non-null  int64  \n",
      " 9   month                 62184 non-null  int64  \n",
      " 10  hour                  62184 non-null  int64  \n",
      "dtypes: float64(1), int64(9), object(1)\n",
      "memory usage: 5.2+ MB\n"
     ]
    }
   ],
   "source": [
    "df.info()"
   ]
  },
  {
   "cell_type": "markdown",
   "metadata": {},
   "source": [
    "REMOVING UNNEEDED COLUMNS  "
   ]
  },
  {
   "cell_type": "code",
   "execution_count": 30,
   "metadata": {},
   "outputs": [
    {
     "data": {
      "text/html": [
       "<div>\n",
       "<style scoped>\n",
       "    .dataframe tbody tr th:only-of-type {\n",
       "        vertical-align: middle;\n",
       "    }\n",
       "\n",
       "    .dataframe tbody tr th {\n",
       "        vertical-align: top;\n",
       "    }\n",
       "\n",
       "    .dataframe thead th {\n",
       "        text-align: right;\n",
       "    }\n",
       "</style>\n",
       "<table border=\"1\" class=\"dataframe\">\n",
       "  <thead>\n",
       "    <tr style=\"text-align: right;\">\n",
       "      <th></th>\n",
       "      <th>number_people</th>\n",
       "      <th>date</th>\n",
       "      <th>day_of_week</th>\n",
       "      <th>is_weekend</th>\n",
       "      <th>is_holiday</th>\n",
       "      <th>month</th>\n",
       "      <th>hour</th>\n",
       "    </tr>\n",
       "  </thead>\n",
       "  <tbody>\n",
       "    <tr>\n",
       "      <th>0</th>\n",
       "      <td>37</td>\n",
       "      <td>2015-08-14 17:00:11-07:00</td>\n",
       "      <td>4</td>\n",
       "      <td>0</td>\n",
       "      <td>0</td>\n",
       "      <td>8</td>\n",
       "      <td>17</td>\n",
       "    </tr>\n",
       "    <tr>\n",
       "      <th>1</th>\n",
       "      <td>45</td>\n",
       "      <td>2015-08-14 17:20:14-07:00</td>\n",
       "      <td>4</td>\n",
       "      <td>0</td>\n",
       "      <td>0</td>\n",
       "      <td>8</td>\n",
       "      <td>17</td>\n",
       "    </tr>\n",
       "    <tr>\n",
       "      <th>2</th>\n",
       "      <td>40</td>\n",
       "      <td>2015-08-14 17:30:15-07:00</td>\n",
       "      <td>4</td>\n",
       "      <td>0</td>\n",
       "      <td>0</td>\n",
       "      <td>8</td>\n",
       "      <td>17</td>\n",
       "    </tr>\n",
       "    <tr>\n",
       "      <th>3</th>\n",
       "      <td>44</td>\n",
       "      <td>2015-08-14 17:40:16-07:00</td>\n",
       "      <td>4</td>\n",
       "      <td>0</td>\n",
       "      <td>0</td>\n",
       "      <td>8</td>\n",
       "      <td>17</td>\n",
       "    </tr>\n",
       "    <tr>\n",
       "      <th>4</th>\n",
       "      <td>45</td>\n",
       "      <td>2015-08-14 17:50:17-07:00</td>\n",
       "      <td>4</td>\n",
       "      <td>0</td>\n",
       "      <td>0</td>\n",
       "      <td>8</td>\n",
       "      <td>17</td>\n",
       "    </tr>\n",
       "    <tr>\n",
       "      <th>...</th>\n",
       "      <td>...</td>\n",
       "      <td>...</td>\n",
       "      <td>...</td>\n",
       "      <td>...</td>\n",
       "      <td>...</td>\n",
       "      <td>...</td>\n",
       "      <td>...</td>\n",
       "    </tr>\n",
       "    <tr>\n",
       "      <th>62179</th>\n",
       "      <td>23</td>\n",
       "      <td>2017-03-18 18:42:28-07:00</td>\n",
       "      <td>5</td>\n",
       "      <td>1</td>\n",
       "      <td>0</td>\n",
       "      <td>3</td>\n",
       "      <td>18</td>\n",
       "    </tr>\n",
       "    <tr>\n",
       "      <th>62180</th>\n",
       "      <td>21</td>\n",
       "      <td>2017-03-18 18:52:35-07:00</td>\n",
       "      <td>5</td>\n",
       "      <td>1</td>\n",
       "      <td>0</td>\n",
       "      <td>3</td>\n",
       "      <td>18</td>\n",
       "    </tr>\n",
       "    <tr>\n",
       "      <th>62181</th>\n",
       "      <td>25</td>\n",
       "      <td>2017-03-18 19:02:40-07:00</td>\n",
       "      <td>5</td>\n",
       "      <td>1</td>\n",
       "      <td>0</td>\n",
       "      <td>3</td>\n",
       "      <td>19</td>\n",
       "    </tr>\n",
       "    <tr>\n",
       "      <th>62182</th>\n",
       "      <td>18</td>\n",
       "      <td>2017-03-18 19:12:47-07:00</td>\n",
       "      <td>5</td>\n",
       "      <td>1</td>\n",
       "      <td>0</td>\n",
       "      <td>3</td>\n",
       "      <td>19</td>\n",
       "    </tr>\n",
       "    <tr>\n",
       "      <th>62183</th>\n",
       "      <td>23</td>\n",
       "      <td>2017-03-18 19:22:51-07:00</td>\n",
       "      <td>5</td>\n",
       "      <td>1</td>\n",
       "      <td>0</td>\n",
       "      <td>3</td>\n",
       "      <td>19</td>\n",
       "    </tr>\n",
       "  </tbody>\n",
       "</table>\n",
       "<p>62184 rows × 7 columns</p>\n",
       "</div>"
      ],
      "text/plain": [
       "       number_people                       date  day_of_week  is_weekend  \\\n",
       "0                 37  2015-08-14 17:00:11-07:00            4           0   \n",
       "1                 45  2015-08-14 17:20:14-07:00            4           0   \n",
       "2                 40  2015-08-14 17:30:15-07:00            4           0   \n",
       "3                 44  2015-08-14 17:40:16-07:00            4           0   \n",
       "4                 45  2015-08-14 17:50:17-07:00            4           0   \n",
       "...              ...                        ...          ...         ...   \n",
       "62179             23  2017-03-18 18:42:28-07:00            5           1   \n",
       "62180             21  2017-03-18 18:52:35-07:00            5           1   \n",
       "62181             25  2017-03-18 19:02:40-07:00            5           1   \n",
       "62182             18  2017-03-18 19:12:47-07:00            5           1   \n",
       "62183             23  2017-03-18 19:22:51-07:00            5           1   \n",
       "\n",
       "       is_holiday  month  hour  \n",
       "0               0      8    17  \n",
       "1               0      8    17  \n",
       "2               0      8    17  \n",
       "3               0      8    17  \n",
       "4               0      8    17  \n",
       "...           ...    ...   ...  \n",
       "62179           0      3    18  \n",
       "62180           0      3    18  \n",
       "62181           0      3    19  \n",
       "62182           0      3    19  \n",
       "62183           0      3    19  \n",
       "\n",
       "[62184 rows x 7 columns]"
      ]
     },
     "execution_count": 30,
     "metadata": {},
     "output_type": "execute_result"
    }
   ],
   "source": [
    "df = df[[\"number_people\",\"date\",\"day_of_week\", \"is_weekend\", \"is_holiday\", \"month\", \"hour\"]]\n",
    "df"
   ]
  },
  {
   "cell_type": "markdown",
   "metadata": {},
   "source": [
    "GRAPHS TO SEE CORRELATION"
   ]
  },
  {
   "cell_type": "code",
   "execution_count": 31,
   "metadata": {},
   "outputs": [],
   "source": [
    "#df.corr()[\"number_people\"]"
   ]
  },
  {
   "cell_type": "code",
   "execution_count": 32,
   "metadata": {},
   "outputs": [
    {
     "data": {
      "text/plain": [
       "<seaborn.axisgrid.FacetGrid at 0x19d61986f60>"
      ]
     },
     "execution_count": 32,
     "metadata": {},
     "output_type": "execute_result"
    },
    {
     "data": {
      "image/png": "[encoded data removed]",
      "text/plain": [
       "<Figure size 500x500 with 1 Axes>"
      ]
     },
     "metadata": {},
     "output_type": "display_data"
    },
    {
     "data": {
      "image/png": "[encoded data removed]",
      "text/plain": [
       "<Figure size 500x500 with 1 Axes>"
      ]
     },
     "metadata": {},
     "output_type": "display_data"
    },
    {
     "data": {
      "image/png": "[encoded data removed]",
      "text/plain": [
       "<Figure size 500x500 with 1 Axes>"
      ]
     },
     "metadata": {},
     "output_type": "display_data"
    },
    {
     "data": {
      "image/png": "[encoded data removed]",
      "text/plain": [
       "<Figure size 500x500 with 1 Axes>"
      ]
     },
     "metadata": {},
     "output_type": "display_data"
    }
   ],
   "source": [
    "sns.lmplot(x = \"is_holiday\", y = \"number_people\", data = df, fit_reg = True, ci = None)\n",
    "sns.lmplot(y = \"number_people\", x = \"day_of_week\", data = df, fit_reg = True, ci = None)\n",
    "sns.lmplot(x = \"is_weekend\", y = \"number_people\", data = df, fit_reg = True, ci = None)\n",
    "sns.lmplot(x = \"hour\", y = \"number_people\", data = df, fit_reg = True, ci = None)\n",
    "\n"
   ]
  },
  {
   "cell_type": "code",
   "execution_count": 33,
   "metadata": {},
   "outputs": [
    {
     "data": {
      "text/plain": [
       "<Axes: ylabel='Frequency'>"
      ]
     },
     "execution_count": 33,
     "metadata": {},
     "output_type": "execute_result"
    },
    {
     "data": {
      "image/png": "[encoded data removed]",
      "text/plain": [
       "<Figure size 640x480 with 1 Axes>"
      ]
     },
     "metadata": {},
     "output_type": "display_data"
    }
   ],
   "source": [
    "df.plot.hist(y=\"number_people\")"
   ]
  },
  {
   "cell_type": "code",
   "execution_count": 34,
   "metadata": {},
   "outputs": [
    {
     "data": {
      "text/plain": [
       "<function matplotlib.pyplot.show(close=None, block=None)>"
      ]
     },
     "execution_count": 34,
     "metadata": {},
     "output_type": "execute_result"
    },
    {
     "data": {
      "image/png": "[encoded data removed]",
      "text/plain": [
       "<Figure size 640x480 with 1 Axes>"
      ]
     },
     "metadata": {},
     "output_type": "display_data"
    }
   ],
   "source": [
    "sns.barplot(y = \"number_people\", x = \"day_of_week\",data = df)\n",
    "plt.title(\"number of people relation to day of week\")\n",
    "plt.xlabel(\"day of week\")\n",
    "plt.ylabel(\"number of people\")\n",
    "\n",
    "plt.show"
   ]
  },
  {
   "cell_type": "code",
   "execution_count": 35,
   "metadata": {},
   "outputs": [
    {
     "data": {
      "text/plain": [
       "<function matplotlib.pyplot.show(close=None, block=None)>"
      ]
     },
     "execution_count": 35,
     "metadata": {},
     "output_type": "execute_result"
    },
    {
     "data": {
      "image/png": "[encoded data removed]",
      "text/plain": [
       "<Figure size 640x480 with 1 Axes>"
      ]
     },
     "metadata": {},
     "output_type": "display_data"
    }
   ],
   "source": [
    "sns.barplot(y = \"number_people\", x = \"hour\",data = df)\n",
    "plt.title(\"number of people relation to hour of the day\")\n",
    "plt.xlabel(\"hour of week\")\n",
    "plt.ylabel(\"number of people\")\n",
    "\n",
    "plt.show"
   ]
  },
  {
   "cell_type": "markdown",
   "metadata": {},
   "source": [
    "DATA CLEANING "
   ]
  },
  {
   "cell_type": "code",
   "execution_count": 36,
   "metadata": {},
   "outputs": [
    {
     "data": {
      "text/html": [
       "<div>\n",
       "<style scoped>\n",
       "    .dataframe tbody tr th:only-of-type {\n",
       "        vertical-align: middle;\n",
       "    }\n",
       "\n",
       "    .dataframe tbody tr th {\n",
       "        vertical-align: top;\n",
       "    }\n",
       "\n",
       "    .dataframe thead th {\n",
       "        text-align: right;\n",
       "    }\n",
       "</style>\n",
       "<table border=\"1\" class=\"dataframe\">\n",
       "  <thead>\n",
       "    <tr style=\"text-align: right;\">\n",
       "      <th></th>\n",
       "      <th>number_people</th>\n",
       "      <th>date</th>\n",
       "      <th>day_of_week</th>\n",
       "      <th>is_weekend</th>\n",
       "      <th>is_holiday</th>\n",
       "      <th>month</th>\n",
       "      <th>hour</th>\n",
       "    </tr>\n",
       "  </thead>\n",
       "  <tbody>\n",
       "  </tbody>\n",
       "</table>\n",
       "</div>"
      ],
      "text/plain": [
       "Empty DataFrame\n",
       "Columns: [number_people, date, day_of_week, is_weekend, is_holiday, month, hour]\n",
       "Index: []"
      ]
     },
     "execution_count": 36,
     "metadata": {},
     "output_type": "execute_result"
    }
   ],
   "source": [
    "df[df.isnull().any(axis=1)]"
   ]
  },
  {
   "cell_type": "markdown",
   "metadata": {},
   "source": [
    "DATA SPLIT"
   ]
  },
  {
   "cell_type": "code",
   "execution_count": 37,
   "metadata": {},
   "outputs": [
    {
     "name": "stderr",
     "output_type": "stream",
     "text": [
      "C:\\Users\\faisa\\AppData\\Local\\Temp\\ipykernel_31340\\1178050755.py:5: FutureWarning: In a future version of pandas, parsing datetimes with mixed time zones will raise an error unless `utc=True`. Please specify `utc=True` to opt in to the new behaviour and silence this warning. To create a `Series` with mixed offsets and `object` dtype, please use `apply` and `datetime.datetime.strptime`\n",
      "  df['date'] = pd.to_datetime(df['date'])\n"
     ]
    }
   ],
   "source": [
    "def preprocess_inputs(df):\n",
    "    df = df.copy()\n",
    "    \n",
    "    # Extract date features\n",
    "    df['date'] = pd.to_datetime(df['date'])\n",
    "    df['month'] = df['date'].apply(lambda x: x.month)\n",
    "    df['day'] = df['date'].apply(lambda x: x.day)\n",
    "    df['hour'] = df['date'].apply(lambda x: x.hour)\n",
    "    df['minute'] = df['date'].apply(lambda x: x.minute)\n",
    "    df = df.drop('date', axis=1)\n",
    "    \n",
    "    # Split df into X and y\n",
    "    y = df['number_people']\n",
    "    X = df.drop('number_people', axis=1)\n",
    "    \n",
    "    # Train-test split\n",
    "    X_train, X_test, y_train, y_test = train_test_split(X, y, train_size=0.7, shuffle=True, random_state=1)\n",
    "    \n",
    "    # Scale X\n",
    "    scaler = StandardScaler()\n",
    "    scaler.fit(X_train)\n",
    "    X_train = pd.DataFrame(scaler.transform(X_train), index=X_train.index, columns=X_train.columns)\n",
    "    X_test = pd.DataFrame(scaler.transform(X_test), index=X_test.index, columns=X_test.columns)\n",
    "    \n",
    "    return X_train, X_test, y_train, y_test\n",
    "X_train, X_test, y_train, y_test  = preprocess_inputs(df)"
   ]
  },
  {
   "cell_type": "code",
   "execution_count": 38,
   "metadata": {},
   "outputs": [
    {
     "data": {
      "text/html": [
       "<div>\n",
       "<style scoped>\n",
       "    .dataframe tbody tr th:only-of-type {\n",
       "        vertical-align: middle;\n",
       "    }\n",
       "\n",
       "    .dataframe tbody tr th {\n",
       "        vertical-align: top;\n",
       "    }\n",
       "\n",
       "    .dataframe thead th {\n",
       "        text-align: right;\n",
       "    }\n",
       "</style>\n",
       "<table border=\"1\" class=\"dataframe\">\n",
       "  <thead>\n",
       "    <tr style=\"text-align: right;\">\n",
       "      <th></th>\n",
       "      <th>day_of_week</th>\n",
       "      <th>is_weekend</th>\n",
       "      <th>is_holiday</th>\n",
       "      <th>month</th>\n",
       "      <th>hour</th>\n",
       "      <th>day</th>\n",
       "      <th>minute</th>\n",
       "    </tr>\n",
       "  </thead>\n",
       "  <tbody>\n",
       "    <tr>\n",
       "      <th>23552</th>\n",
       "      <td>-0.989840</td>\n",
       "      <td>-0.623864</td>\n",
       "      <td>-0.049641</td>\n",
       "      <td>-1.000469</td>\n",
       "      <td>-0.926864</td>\n",
       "      <td>-0.436112</td>\n",
       "      <td>-1.668369</td>\n",
       "    </tr>\n",
       "    <tr>\n",
       "      <th>3026</th>\n",
       "      <td>-1.491776</td>\n",
       "      <td>-0.623864</td>\n",
       "      <td>-0.049641</td>\n",
       "      <td>0.452734</td>\n",
       "      <td>-0.331144</td>\n",
       "      <td>-0.209158</td>\n",
       "      <td>1.227967</td>\n",
       "    </tr>\n",
       "    <tr>\n",
       "      <th>16668</th>\n",
       "      <td>-1.491776</td>\n",
       "      <td>-0.623864</td>\n",
       "      <td>-0.049641</td>\n",
       "      <td>-1.581751</td>\n",
       "      <td>0.860295</td>\n",
       "      <td>-1.684358</td>\n",
       "      <td>-0.509835</td>\n",
       "    </tr>\n",
       "    <tr>\n",
       "      <th>13838</th>\n",
       "      <td>1.519844</td>\n",
       "      <td>1.602914</td>\n",
       "      <td>-0.049641</td>\n",
       "      <td>-1.872391</td>\n",
       "      <td>0.711366</td>\n",
       "      <td>-1.457404</td>\n",
       "      <td>1.227967</td>\n",
       "    </tr>\n",
       "    <tr>\n",
       "      <th>6459</th>\n",
       "      <td>-1.491776</td>\n",
       "      <td>-0.623864</td>\n",
       "      <td>-0.049641</td>\n",
       "      <td>0.743375</td>\n",
       "      <td>1.307085</td>\n",
       "      <td>0.358226</td>\n",
       "      <td>1.227967</td>\n",
       "    </tr>\n",
       "    <tr>\n",
       "      <th>...</th>\n",
       "      <td>...</td>\n",
       "      <td>...</td>\n",
       "      <td>...</td>\n",
       "      <td>...</td>\n",
       "      <td>...</td>\n",
       "      <td>...</td>\n",
       "      <td>...</td>\n",
       "    </tr>\n",
       "    <tr>\n",
       "      <th>50057</th>\n",
       "      <td>1.017907</td>\n",
       "      <td>1.602914</td>\n",
       "      <td>-0.049641</td>\n",
       "      <td>0.743375</td>\n",
       "      <td>-1.373653</td>\n",
       "      <td>1.492995</td>\n",
       "      <td>0.996260</td>\n",
       "    </tr>\n",
       "    <tr>\n",
       "      <th>32511</th>\n",
       "      <td>0.515970</td>\n",
       "      <td>-0.623864</td>\n",
       "      <td>-0.049641</td>\n",
       "      <td>-0.419188</td>\n",
       "      <td>1.307085</td>\n",
       "      <td>0.925610</td>\n",
       "      <td>0.069433</td>\n",
       "    </tr>\n",
       "    <tr>\n",
       "      <th>5192</th>\n",
       "      <td>-0.989840</td>\n",
       "      <td>-0.623864</td>\n",
       "      <td>-0.049641</td>\n",
       "      <td>0.743375</td>\n",
       "      <td>1.604945</td>\n",
       "      <td>-1.116974</td>\n",
       "      <td>-0.509835</td>\n",
       "    </tr>\n",
       "    <tr>\n",
       "      <th>12172</th>\n",
       "      <td>0.014034</td>\n",
       "      <td>-0.623864</td>\n",
       "      <td>-0.049641</td>\n",
       "      <td>1.324656</td>\n",
       "      <td>1.307085</td>\n",
       "      <td>0.131272</td>\n",
       "      <td>-0.509835</td>\n",
       "    </tr>\n",
       "    <tr>\n",
       "      <th>33003</th>\n",
       "      <td>-0.989840</td>\n",
       "      <td>-0.623864</td>\n",
       "      <td>-0.049641</td>\n",
       "      <td>-0.419188</td>\n",
       "      <td>-0.777934</td>\n",
       "      <td>1.379518</td>\n",
       "      <td>0.706627</td>\n",
       "    </tr>\n",
       "  </tbody>\n",
       "</table>\n",
       "<p>43528 rows × 7 columns</p>\n",
       "</div>"
      ],
      "text/plain": [
       "       day_of_week  is_weekend  is_holiday     month      hour       day  \\\n",
       "23552    -0.989840   -0.623864   -0.049641 -1.000469 -0.926864 -0.436112   \n",
       "3026     -1.491776   -0.623864   -0.049641  0.452734 -0.331144 -0.209158   \n",
       "16668    -1.491776   -0.623864   -0.049641 -1.581751  0.860295 -1.684358   \n",
       "13838     1.519844    1.602914   -0.049641 -1.872391  0.711366 -1.457404   \n",
       "6459     -1.491776   -0.623864   -0.049641  0.743375  1.307085  0.358226   \n",
       "...            ...         ...         ...       ...       ...       ...   \n",
       "50057     1.017907    1.602914   -0.049641  0.743375 -1.373653  1.492995   \n",
       "32511     0.515970   -0.623864   -0.049641 -0.419188  1.307085  0.925610   \n",
       "5192     -0.989840   -0.623864   -0.049641  0.743375  1.604945 -1.116974   \n",
       "12172     0.014034   -0.623864   -0.049641  1.324656  1.307085  0.131272   \n",
       "33003    -0.989840   -0.623864   -0.049641 -0.419188 -0.777934  1.379518   \n",
       "\n",
       "         minute  \n",
       "23552 -1.668369  \n",
       "3026   1.227967  \n",
       "16668 -0.509835  \n",
       "13838  1.227967  \n",
       "6459   1.227967  \n",
       "...         ...  \n",
       "50057  0.996260  \n",
       "32511  0.069433  \n",
       "5192  -0.509835  \n",
       "12172 -0.509835  \n",
       "33003  0.706627  \n",
       "\n",
       "[43528 rows x 7 columns]"
      ]
     },
     "execution_count": 38,
     "metadata": {},
     "output_type": "execute_result"
    }
   ],
   "source": [
    "X_train"
   ]
  },
  {
   "cell_type": "code",
   "execution_count": 39,
   "metadata": {},
   "outputs": [
    {
     "data": {
      "text/plain": [
       "23552     2\n",
       "3026     46\n",
       "16668    87\n",
       "13838    31\n",
       "6459     88\n",
       "         ..\n",
       "50057     0\n",
       "32511    23\n",
       "5192     88\n",
       "12172    30\n",
       "33003    23\n",
       "Name: number_people, Length: 43528, dtype: int64"
      ]
     },
     "execution_count": 39,
     "metadata": {},
     "output_type": "execute_result"
    }
   ],
   "source": [
    "y_train"
   ]
  },
  {
   "cell_type": "markdown",
   "metadata": {},
   "source": [
    "TRAINING"
   ]
  },
  {
   "cell_type": "code",
   "execution_count": 40,
   "metadata": {},
   "outputs": [
    {
     "name": "stdout",
     "output_type": "stream",
     "text": [
      "Linear Regression (Ridge) trained.\n"
     ]
    },
    {
     "name": "stderr",
     "output_type": "stream",
     "text": [
      "c:\\Users\\faisa\\AppData\\Local\\Programs\\Python\\Python312\\Lib\\site-packages\\sklearn\\neural_network\\_multilayer_perceptron.py:690: ConvergenceWarning: Stochastic Optimizer: Maximum iterations (200) reached and the optimization hasn't converged yet.\n",
      "  warnings.warn(\n"
     ]
    },
    {
     "name": "stdout",
     "output_type": "stream",
     "text": [
      "           Neural Network trained.\n",
      "            Random Forest trained.\n"
     ]
    }
   ],
   "source": [
    "models = {\n",
    "    \"Linear Regression (Ridge)\": Ridge(),\n",
    "    \"           Neural Network\": MLPRegressor(),\n",
    "    \"            Random Forest\": RandomForestRegressor()\n",
    "}\n",
    "\n",
    "for name, model in models.items():\n",
    "    model.fit(X_train, y_train)\n",
    "    print(name + \" trained.\")"
   ]
  },
  {
   "cell_type": "markdown",
   "metadata": {},
   "source": [
    "RESULTS"
   ]
  },
  {
   "cell_type": "code",
   "execution_count": 41,
   "metadata": {},
   "outputs": [],
   "source": [
    "def get_rmse(y_test, y_pred):\n",
    "    rmse = np.sqrt(np.mean((y_test - y_pred)**2))\n",
    "    return rmse\n",
    "\n",
    "def get_r2(y_test, y_pred):\n",
    "    r2 = 1 - (np.sum((y_test - y_pred)**2) / np.sum((y_test - y_test.mean())**2))\n",
    "    return r2"
   ]
  },
  {
   "cell_type": "code",
   "execution_count": 42,
   "metadata": {},
   "outputs": [
    {
     "name": "stdout",
     "output_type": "stream",
     "text": [
      "Linear Regression (Ridge) RMSE: 18.46\n",
      "           Neural Network RMSE: 13.82\n",
      "            Random Forest RMSE: 7.03\n"
     ]
    }
   ],
   "source": [
    "for name, model in models.items():\n",
    "    y_pred = model.predict(X_test)\n",
    "    rmse = get_rmse(y_test, y_pred)\n",
    "    print(name + \" RMSE: {:.2f}\".format(rmse))"
   ]
  },
  {
   "cell_type": "code",
   "execution_count": 43,
   "metadata": {},
   "outputs": [
    {
     "name": "stdout",
     "output_type": "stream",
     "text": [
      "Linear Regression (Ridge) R^2: 0.34510\n",
      "           Neural Network R^2: 0.63282\n",
      "            Random Forest R^2: 0.90491\n"
     ]
    }
   ],
   "source": [
    "for name, model in models.items():\n",
    "    y_pred = model.predict(X_test)\n",
    "    r2 = get_r2(y_test, y_pred)\n",
    "    print(name + \" R^2: {:.5f}\".format(r2))"
   ]
  },
  {
   "cell_type": "markdown",
   "metadata": {},
   "source": [
    "UI WITH TEXT AND GRAPH"
   ]
  },
  {
   "cell_type": "code",
   "execution_count": null,
   "metadata": {},
   "outputs": [
    {
     "name": "stdout",
     "output_type": "stream",
     "text": [
      "* Running on local URL:  http://127.0.0.1:7883\n",
      "\n",
      "To create a public link, set `share=True` in `launch()`.\n"
     ]
    },
    {
     "data": {
      "text/html": [
       "<div><iframe src=\"http://127.0.0.1:7883/\" width=\"100%\" height=\"500\" allow=\"autoplay; camera; microphone; clipboard-read; clipboard-write;\" frameborder=\"0\" allowfullscreen></iframe></div>"
      ],
      "text/plain": [
       "<IPython.core.display.HTML object>"
      ]
     },
     "metadata": {},
     "output_type": "display_data"
    },
    {
     "data": {
      "text/plain": []
     },
     "execution_count": 67,
     "metadata": {},
     "output_type": "execute_result"
    }
   ],
   "source": [
    "import gradio as gr\n",
    "\n",
    "\n",
    "\n",
    "day_mapping = {\n",
    "    \"Monday\": 0,\n",
    "    \"Tuesday\": 1,\n",
    "    \"Wednesday\": 2,\n",
    "    \"Thursday\": 3,\n",
    "    \"Friday\": 4,\n",
    "    \"Saturday\": 5,\n",
    "    \"Sunday\": 6,\n",
    "}\n",
    "\n",
    "def predict_crowd(day, hour):\n",
    "    \n",
    "    day_num = day_mapping[day]\n",
    "\n",
    "    \n",
    "    day_data = df[df[\"day_of_week\"] == day_num]\n",
    "\n",
    "    \n",
    "    selected_hour_data = day_data[day_data[\"hour\"] == hour]\n",
    "    \n",
    "    if not selected_hour_data.empty:\n",
    "        num_people = int(selected_hour_data.iloc[0][\"number_people\"])\n",
    "    else:\n",
    "        num_people = 0  \n",
    "\n",
    "    \n",
    "    text_output = f\"There will be {num_people} people at {hour}:00 on {day}.\"\n",
    "\n",
    "    \n",
    "    plt.figure(figsize=(8, 5))\n",
    "    sns.lineplot(x=\"hour\", y=\"number_people\", data=day_data, marker=\"o\", color=\"blue\", label=\"Predicted Crowdness\")\n",
    "\n",
    "    \n",
    "    plt.axvline(x=hour, color=\"red\", linestyle=\"--\", label=f\"Selected Hour: {hour}\")\n",
    "    plt.scatter(hour, num_people, color=\"red\", zorder=3)\n",
    "\n",
    "    \n",
    "    plt.text(hour, num_people + 3, f\"Predicted: {num_people}\", \n",
    "             horizontalalignment='center', color='red', fontsize=12, weight='bold')\n",
    "\n",
    "    plt.title(f\"Predicted Gym Crowdness for {day}\")\n",
    "    plt.xlabel(\"Hour of the Day\")\n",
    "    plt.ylabel(\"Predicted Number of People\")\n",
    "    plt.xticks(range(0, 24, 1))  \n",
    "    plt.legend()\n",
    "\n",
    "    return text_output, plt.gcf()\n",
    "\n",
    "\n",
    "demo = gr.Interface(\n",
    "    fn=predict_crowd,\n",
    "    inputs=[\n",
    "        gr.Dropdown([\"Monday\", \"Tuesday\", \"Wednesday\", \"Thursday\", \"Friday\", \"Saturday\", \"Sunday\"], label=\"Day\"),\n",
    "        gr.Dropdown([0,1,2,3,4,5,6,7,8,9,10,11,12,13,14,15,16,17,18,19,20,21,22,23], label=\"Hour\"),\n",
    "    ],\n",
    "    outputs=[\"text\", gr.Plot()],\n",
    "    title=\"Gym Crowdness Predictor\",\n",
    "    description=\"Select a day and time to see the expected gym crowd and trend.\"\n",
    ")\n",
    "\n",
    "demo.launch()\n"
   ]
  },
  {
   "cell_type": "markdown",
   "metadata": {},
   "source": [
    "UI WITH TEXT"
   ]
  },
  {
   "cell_type": "code",
   "execution_count": 75,
   "metadata": {},
   "outputs": [
    {
     "name": "stdout",
     "output_type": "stream",
     "text": [
      "* Running on local URL:  http://127.0.0.1:7889\n",
      "\n",
      "To create a public link, set `share=True` in `launch()`.\n"
     ]
    },
    {
     "data": {
      "text/html": [
       "<div><iframe src=\"http://127.0.0.1:7889/\" width=\"100%\" height=\"500\" allow=\"autoplay; camera; microphone; clipboard-read; clipboard-write;\" frameborder=\"0\" allowfullscreen></iframe></div>"
      ],
      "text/plain": [
       "<IPython.core.display.HTML object>"
      ]
     },
     "metadata": {},
     "output_type": "display_data"
    },
    {
     "data": {
      "text/plain": []
     },
     "execution_count": 75,
     "metadata": {},
     "output_type": "execute_result"
    }
   ],
   "source": [
    "import gradio as gr\n",
    "\n",
    "\n",
    "\n",
    "\n",
    "\n",
    "day_mapping = {\n",
    "    \"Monday\": 0,\n",
    "    \"Tuesday\": 1,\n",
    "    \"Wednesday\": 2,\n",
    "    \"Thursday\": 3,\n",
    "    \"Friday\": 4,\n",
    "    \"Saturday\": 5,\n",
    "    \"Sunday\": 6,\n",
    "}\n",
    "\n",
    "\n",
    "def get_crowd_text(day, hour):\n",
    "    \n",
    "    day_num = day_mapping[day]\n",
    "\n",
    "    \n",
    "    filtered_data = df[(df[\"day_of_week\"] == day_num) & (df[\"hour\"] == hour)]\n",
    "    \n",
    "    if not filtered_data.empty:\n",
    "        num_people = int(filtered_data.iloc[0][\"number_people\"])  \n",
    "    else:\n",
    "        num_people = 0  \n",
    "\n",
    "    \n",
    "    return f\"There will be {num_people} people at {hour}:00 on {day}.\"\n",
    "\n",
    "\n",
    "demo = gr.Interface(\n",
    "    fn=get_crowd_text,\n",
    "    inputs=[\n",
    "        gr.Dropdown([\"Monday\", \"Tuesday\", \"Wednesday\", \"Thursday\", \"Friday\", \"Saturday\", \"Sunday\"], label=\"Day\"),\n",
    "        gr.Dropdown([0,1,2,3,4,5,6,7,8,9,10,11,12,13,14,15,16,17,18,19,20,21,22,23], label=\"Hour\"),    ],\n",
    "    outputs=\"text\",\n",
    "    title=\"Gym Crowdness Predictor\",\n",
    "    description=\"Select a day and time to see the expected gym crowd.\"\n",
    ")\n",
    "\n",
    "demo.launch()\n"
   ]
  },
  {
   "cell_type": "markdown",
   "metadata": {},
   "source": [
    "UI WITH GRAPH "
   ]
  },
  {
   "cell_type": "code",
   "execution_count": null,
   "metadata": {},
   "outputs": [
    {
     "name": "stdout",
     "output_type": "stream",
     "text": [
      "* Running on local URL:  http://127.0.0.1:7890\n",
      "\n",
      "To create a public link, set `share=True` in `launch()`.\n"
     ]
    },
    {
     "data": {
      "text/html": [
       "<div><iframe src=\"http://127.0.0.1:7890/\" width=\"100%\" height=\"500\" allow=\"autoplay; camera; microphone; clipboard-read; clipboard-write;\" frameborder=\"0\" allowfullscreen></iframe></div>"
      ],
      "text/plain": [
       "<IPython.core.display.HTML object>"
      ]
     },
     "metadata": {},
     "output_type": "display_data"
    },
    {
     "data": {
      "text/plain": []
     },
     "execution_count": 76,
     "metadata": {},
     "output_type": "execute_result"
    }
   ],
   "source": [
    "import gradio as gr\n",
    "\n",
    "\n",
    "\n",
    "\n",
    "\n",
    "day_mapping = {\n",
    "    \"Monday\": 0,\n",
    "    \"Tuesday\": 1,\n",
    "    \"Wednesday\": 2,\n",
    "    \"Thursday\": 3,\n",
    "    \"Friday\": 4,\n",
    "    \"Saturday\": 5,\n",
    "    \"Sunday\": 6,\n",
    "}\n",
    "\n",
    "def plot_crowdness(day, hour):\n",
    "    \n",
    "    day_num = day_mapping[day]\n",
    "\n",
    "    \n",
    "    day_df = df[df[\"day_of_week\"] == day_num]\n",
    "\n",
    "    \n",
    "    selected_people = day_df[day_df[\"hour\"] == hour][\"number_people\"].values\n",
    "    predicted_people = int(selected_people[0]) if len(selected_people) > 0 else 0  \n",
    "\n",
    "    \n",
    "    plt.figure(figsize=(8, 5))\n",
    "    sns.barplot(y=\"number_people\", x=\"hour\", data=day_df, color=\"blue\")\n",
    "\n",
    "    \n",
    "    plt.axvline(x=hour, color=\"red\", linestyle=\"--\")\n",
    "    plt.scatter(hour, predicted_people, color=\"red\", zorder=3)\n",
    "    \n",
    "    \n",
    "    plt.text(hour, predicted_people + 3, f\"Predicted: {predicted_people}\",\n",
    "             horizontalalignment='center', color='red', fontsize=12, weight='bold')\n",
    "\n",
    "    \n",
    "    plt.title(f\"Gym Crowdness on {day}\")\n",
    "    plt.xlabel(\"Hour of the Day\")\n",
    "    plt.ylabel(\"Number of People\")\n",
    "    plt.xticks(range(0, 24, 1))  \n",
    "\n",
    "    return plt.gcf()\n",
    "\n",
    "\n",
    "demo = gr.Interface(\n",
    "    fn=plot_crowdness,\n",
    "    inputs=[\n",
    "        gr.Dropdown([\"Monday\", \"Tuesday\", \"Wednesday\", \"Thursday\", \"Friday\", \"Saturday\", \"Sunday\"], label=\"Day\"),\n",
    "        gr.Dropdown([0,1,2,3,4,5,6,7,8,9,10,11,12,13,14,15,16,17,18,19,20,21,22,23], label=\"Hour\"),\n",
    "    ],\n",
    "    outputs=gr.Plot(),\n",
    "    title=\"Gym Crowdness Graph\",\n",
    "    description=\"Select a day and time to visualize gym crowd data from the dataset.\"\n",
    ")\n",
    "\n",
    "demo.launch()\n",
    "\n"
   ]
  }
 ],
 "metadata": {
  "kernelspec": {
   "display_name": "Python 3",
   "language": "python",
   "name": "python3"
  },
  "language_info": {
   "codemirror_mode": {
    "name": "ipython",
    "version": 3
   },
   "file_extension": ".py",
   "mimetype": "text/x-python",
   "name": "python",
   "nbconvert_exporter": "python",
   "pygments_lexer": "ipython3",
   "version": "3.12.6"
  }
 },
 "nbformat": 4,
 "nbformat_minor": 2
}
